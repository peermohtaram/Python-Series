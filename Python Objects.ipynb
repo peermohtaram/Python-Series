{
 "cells": [
  {
   "cell_type": "markdown",
   "metadata": {},
   "source": [
    "# Python Objects: Mutable and Immutable"
   ]
  },
  {
   "cell_type": "markdown",
   "metadata": {},
   "source": [
    "<i><b>Everything in Python is an object.<b></i>. This is the most common phrase you read when you enter the world of Python. All data types and functions that we use in Python are actually the objects of some bigger class. So when we initialize a variable (int, string or list etc.), we are actually creating an object of that class (int, string, list or whatever we initialize). Same is the case when we call a built-in function. This can be we as:"
   ]
  },
  {
   "cell_type": "markdown",
   "metadata": {},
   "source": [
    "variable_name =<i> object </i>"
   ]
  },
  {
   "cell_type": "markdown",
   "metadata": {},
   "source": [
    "So if all these things are object, this means there must be some attributes associated with Python objects. <i><b>Identity (id)</b></i>, <i><b>type</b></i> and <i><b>value</b></i>, these 3 main attributes are associated with each python object. Understanding of these attributes is necessary to further move to concept of Mutable and Immutable."
   ]
  },
  {
   "cell_type": "markdown",
   "metadata": {},
   "source": [
    "## Identity"
   ]
  },
  {
   "cell_type": "markdown",
   "metadata": {},
   "source": [
    "Identity is the address of object in memory and is represented by a numerical value. Every object in Python has distinct location in memory (remember this line). <b>id()</b> is used to check the address of an oject in our program. To check if two objects in memory have same address, <b>is</b> operator is used. Let's try this."
   ]
  },
  {
   "cell_type": "code",
   "execution_count": 2,
   "metadata": {},
   "outputs": [
    {
     "name": "stdout",
     "output_type": "stream",
     "text": [
      "OUTPUT:\n",
      "id of alpha:  2761460147344\n",
      "id of beta:  2761420443976\n",
      "id of cahrlie:  2761460147344\n"
     ]
    }
   ],
   "source": [
    "# intializing 3 variables\n",
    "alpha = 911\n",
    "beta = 'Python'\n",
    "charlie = alpha\n",
    "\n",
    "#printing the id of variables\n",
    "print('OUTPUT:')\n",
    "print('id of alpha: ', id(alpha))\n",
    "print('id of beta: ', id(beta))\n",
    "print('id of cahrlie: ', id(charlie))"
   ]
  },
  {
   "cell_type": "markdown",
   "metadata": {},
   "source": [
    "Here we can see that id of aplha and charlie are same, means both were referencing the same address in memory, which contains a value <i>911</i>. We can test this too using <b>is</b> operator."
   ]
  },
  {
   "cell_type": "code",
   "execution_count": 23,
   "metadata": {},
   "outputs": [
    {
     "data": {
      "text/plain": [
       "True"
      ]
     },
     "execution_count": 23,
     "metadata": {},
     "output_type": "execute_result"
    }
   ],
   "source": [
    "#using 'is' operator\n",
    "alpha is charlie"
   ]
  },
  {
   "cell_type": "code",
   "execution_count": 24,
   "metadata": {},
   "outputs": [
    {
     "data": {
      "text/plain": [
       "False"
      ]
     },
     "execution_count": 24,
     "metadata": {},
     "output_type": "execute_result"
    }
   ],
   "source": [
    "#using 'is operator'\n",
    "alpha is beta"
   ]
  },
  {
   "cell_type": "markdown",
   "metadata": {},
   "source": [
    "## Type"
   ]
  },
  {
   "cell_type": "markdown",
   "metadata": {},
   "source": [
    "Type, as name suggests, tells us what is the data type of variale that we have initialized. When we intialize a object variable, Python itself detects from which class it belongs. <b><i>Type of object determines what operations can be performed on that object.</i></b> <br>\n",
    "<b>type()</b> is used in Python to check the <i>type</i> of variables in Python. Let's check the our variables we initiliazed above."
   ]
  },
  {
   "cell_type": "code",
   "execution_count": 9,
   "metadata": {},
   "outputs": [
    {
     "name": "stdout",
     "output_type": "stream",
     "text": [
      "OUTPUT:\n",
      "Type of alpha:  <class 'int'>\n",
      "Type of beta:  <class 'str'>\n",
      "Type of charlie:  <class 'int'>\n"
     ]
    }
   ],
   "source": [
    "# checking type of variables. type() tell from which class our variable belongs\n",
    "print('OUTPUT:')\n",
    "print('Type of alpha: ', type(alpha))\n",
    "print('Type of beta: ', type(beta))\n",
    "print('Type of charlie: ', type(charlie))"
   ]
  },
  {
   "cell_type": "markdown",
   "metadata": {},
   "source": [
    "Look Python detected itself the type of variables. Output tells alpha and charlie belong to class of int/integer whilel beta belongs to str/string class."
   ]
  },
  {
   "cell_type": "markdown",
   "metadata": {},
   "source": [
    "## Value"
   ]
  },
  {
   "cell_type": "markdown",
   "metadata": {},
   "source": [
    "Value is what value we assign to our object. Like we assigned a value <i>911</i> to variable <i>alpha</i> and <i>charlie</i>, and assigned <i>Python</i> to variable <i>beta</i> (let Python take the headache of their types)."
   ]
  },
  {
   "cell_type": "markdown",
   "metadata": {},
   "source": [
    "Now we have understood the concept of id, type and value, we are ready to understand the concept of <b>Mutable</b> and <b>Immutable</b> objects."
   ]
  },
  {
   "cell_type": "markdown",
   "metadata": {},
   "source": [
    "# Mutable and Immutable Objects"
   ]
  },
  {
   "cell_type": "markdown",
   "metadata": {},
   "source": [
    "As we are learning Python, we should be clear that all the objects in Python are either <b>Mutable</b> or <b>Immutable</b>. And they are pretty simple to understand."
   ]
  },
  {
   "cell_type": "markdown",
   "metadata": {},
   "source": [
    "<b><h3>Mutable</h3></b>: Objects whose <b>value can be changed</b>.\n",
    "<b><h3>Immutable</h3></b>: Objects whose <b>value <b>can NOT be changed</b> once they are created."
   ]
  },
  {
   "attachments": {},
   "cell_type": "markdown",
   "metadata": {},
   "source": [
    "<img src=\"images/Mutable and Immutable types.png\" alt=\"Python Data Objects\" height=\"600\" width=\"600\"></img>"
   ]
  },
  {
   "cell_type": "markdown",
   "metadata": {},
   "source": [
    "<br>Let's understand what these definitions mean. We'll use the three valriables, alpha beta and charlie, defined earlier. <br><br>\n",
    "First we will se how <b>immuttable</b> obejcts work. As alpha and charlie both are <i>int</i> and int is <i>immutable<i> type. We can not change the value of an immutable object."
   ]
  },
  {
   "cell_type": "code",
   "execution_count": 4,
   "metadata": {},
   "outputs": [
    {
     "name": "stdout",
     "output_type": "stream",
     "text": [
      "911\n",
      "id of alpha:  2761460147344\n"
     ]
    }
   ],
   "source": [
    "#print value and id of alpha\n",
    "print(alpha)\n",
    "print('id of alpha: ', id(alpha))"
   ]
  },
  {
   "cell_type": "markdown",
   "metadata": {},
   "source": [
    "Now let's change value."
   ]
  },
  {
   "cell_type": "code",
   "execution_count": 5,
   "metadata": {},
   "outputs": [
    {
     "name": "stdout",
     "output_type": "stream",
     "text": [
      "916\n"
     ]
    }
   ],
   "source": [
    "#changing value of alpha\n",
    "alpha = alpha + 5\n",
    "print(alpha)"
   ]
  },
  {
   "cell_type": "markdown",
   "metadata": {},
   "source": [
    "Well Congratulations!! You just changed the value of an immutable object. <br> <br>\n",
    "But WAIT!!"
   ]
  },
  {
   "cell_type": "code",
   "execution_count": 6,
   "metadata": {},
   "outputs": [
    {
     "name": "stdout",
     "output_type": "stream",
     "text": [
      "id:  2761460147984\n"
     ]
    }
   ],
   "source": [
    "#print id of alpha\n",
    "print('id: ', id(alpha))"
   ]
  },
  {
   "cell_type": "markdown",
   "metadata": {},
   "source": [
    "Look id(memory address) of alpha has been changed. So, you didn't changed the value of alpha actually. What you did is that you created a new int object whose value is 916 and it's named <i>alpha</i>. <br><br>\n",
    "Also we will see value of <i>charlie</i> because charlie and alpha were same as we did charlie = alpha."
   ]
  },
  {
   "cell_type": "code",
   "execution_count": 7,
   "metadata": {},
   "outputs": [
    {
     "name": "stdout",
     "output_type": "stream",
     "text": [
      "value:  911\n",
      "id:  2761460147344\n"
     ]
    }
   ],
   "source": [
    "#printing value and id of charlie\n",
    "print('value: ', charlie)\n",
    "print('id: ', id(charlie))"
   ]
  },
  {
   "cell_type": "markdown",
   "metadata": {},
   "source": [
    "We can see value and id of charlie is not updated and it retained it's attributes. <br><br>\n",
    "That is how <b>immutable<b> data objects work."
   ]
  },
  {
   "cell_type": "markdown",
   "metadata": {},
   "source": [
    "Now we will examine working of <b>mutable</b> objects. Lets first define a mutable object, list."
   ]
  },
  {
   "cell_type": "code",
   "execution_count": 23,
   "metadata": {},
   "outputs": [],
   "source": [
    "#defining a list which is mutable\n",
    "myList = [1,2,'Python',3]\n",
    "myList_2 = myList"
   ]
  },
  {
   "cell_type": "code",
   "execution_count": 24,
   "metadata": {},
   "outputs": [
    {
     "name": "stdout",
     "output_type": "stream",
     "text": [
      "myList:  [1, 2, 'Python', 3]\n",
      "id myList 2761460959240\n",
      "myList_2:  [1, 2, 'Python', 3]\n",
      "id myList_2  2761460959240\n"
     ]
    }
   ],
   "source": [
    "#printing value and id of myList\n",
    "print('myList: ', myList)\n",
    "print('id myList', id(myList))\n",
    "print('myList_2: ', myList_2)\n",
    "print('id myList_2 ', id(myList_2))"
   ]
  },
  {
   "cell_type": "markdown",
   "metadata": {},
   "source": [
    "Now as list is mutable, we can change/update it's value inplace(on the same memory address) using Python's built-in function(s)."
   ]
  },
  {
   "cell_type": "code",
   "execution_count": 11,
   "metadata": {},
   "outputs": [],
   "source": [
    "myList.append('awesome')"
   ]
  },
  {
   "cell_type": "code",
   "execution_count": 39,
   "metadata": {},
   "outputs": [
    {
     "name": "stdout",
     "output_type": "stream",
     "text": [
      "value:  [1, 2, 'Python', 3]\n",
      "id  2761460959240\n"
     ]
    }
   ],
   "source": [
    "#printing value and id of myList\n",
    "print('value: ', myList)\n",
    "print('id ', id(myList))"
   ]
  },
  {
   "cell_type": "markdown",
   "metadata": {},
   "source": [
    "Value of myList is updated while retaining the place in memory. And if we see value of myList_2, it has been updated too, which didn't happen in case of <b>immutable</b> objects."
   ]
  },
  {
   "cell_type": "code",
   "execution_count": 26,
   "metadata": {},
   "outputs": [
    {
     "name": "stdout",
     "output_type": "stream",
     "text": [
      "value:  [1, 2, 'Python', 3]\n",
      "id  2761460959240\n"
     ]
    }
   ],
   "source": [
    "#printing value and id of myList_2\n",
    "print('value: ', myList_2)\n",
    "print('id ', id(myList_2))"
   ]
  },
  {
   "cell_type": "markdown",
   "metadata": {},
   "source": [
    "Now lets see an case of <b>immutable</b> data objects."
   ]
  },
  {
   "cell_type": "code",
   "execution_count": 18,
   "metadata": {},
   "outputs": [
    {
     "name": "stdout",
     "output_type": "stream",
     "text": [
      "('Python', [1, 2, 3])\n",
      "id: 2761459069320\n"
     ]
    }
   ],
   "source": [
    "#defining a tuple\n",
    "myTuple = ('Python', [1,2,3])\n",
    "print(myTuple)\n",
    "print('id:',id(myTuple))"
   ]
  },
  {
   "cell_type": "markdown",
   "metadata": {},
   "source": [
    "In myTuple, we have two values, one is <i>string</i> which is immutable and other is a <i>list</i> which is mutable. We have contained an immutable and a mutable object within an immutable object.<br><br>\n",
    "As we can change the value of a mutable object, we will do it and see what happens."
   ]
  },
  {
   "cell_type": "code",
   "execution_count": 19,
   "metadata": {},
   "outputs": [
    {
     "name": "stdout",
     "output_type": "stream",
     "text": [
      "[1, 2, 3]\n"
     ]
    }
   ],
   "source": [
    "# taking value of list from tuple\n",
    "t_list = myTuple[1]\n",
    "print(t_list)"
   ]
  },
  {
   "cell_type": "code",
   "execution_count": 20,
   "metadata": {},
   "outputs": [
    {
     "name": "stdout",
     "output_type": "stream",
     "text": [
      "[1, 2, 3, 'awesome']\n"
     ]
    }
   ],
   "source": [
    "t_list.append('awesome')\n",
    "print(t_list)"
   ]
  },
  {
   "cell_type": "code",
   "execution_count": 21,
   "metadata": {},
   "outputs": [
    {
     "name": "stdout",
     "output_type": "stream",
     "text": [
      "('Python', [1, 2, 3, 'awesome'])\n",
      "id:  2761459069320\n"
     ]
    }
   ],
   "source": [
    "#printing value and id of myTuple\n",
    "print(myTuple)\n",
    "print('id: ', id(myTuple))"
   ]
  },
  {
   "cell_type": "markdown",
   "metadata": {},
   "source": [
    "As you can see above as we updated the value of list, it also got updated inside the tuple. It doesn't mean tuple is mutable. Tuple is a container, an object which can contain other data objects and itself is an object. What we did is that we just updated the values of a mutable object (which we can surely do!) inside a tuple. If we want to change the value of tuple, for example, if we want another instead of a list on second index of tuple, Python will not let us do this because tuple is <b>immutable</b>. We can check this as well."
   ]
  },
  {
   "cell_type": "code",
   "execution_count": 27,
   "metadata": {},
   "outputs": [
    {
     "ename": "TypeError",
     "evalue": "'tuple' object does not support item assignment",
     "output_type": "error",
     "traceback": [
      "\u001b[1;31m---------------------------------------------------------------------------\u001b[0m",
      "\u001b[1;31mTypeError\u001b[0m                                 Traceback (most recent call last)",
      "\u001b[1;32m<ipython-input-27-e896a0a9affc>\u001b[0m in \u001b[0;36m<module>\u001b[1;34m()\u001b[0m\n\u001b[1;32m----> 1\u001b[1;33m \u001b[0mmyTuple\u001b[0m\u001b[1;33m[\u001b[0m\u001b[1;36m1\u001b[0m\u001b[1;33m]\u001b[0m \u001b[1;33m=\u001b[0m \u001b[1;36m5\u001b[0m\u001b[1;33m\u001b[0m\u001b[0m\n\u001b[0m",
      "\u001b[1;31mTypeError\u001b[0m: 'tuple' object does not support item assignment"
     ]
    }
   ],
   "source": [
    "myTuple[1] = 5"
   ]
  },
  {
   "cell_type": "markdown",
   "metadata": {},
   "source": [
    "So we see, trying to change an immutable object gives us an error."
   ]
  },
  {
   "cell_type": "markdown",
   "metadata": {},
   "source": [
    "At the last, there is another thing needed to be clear about Python object. As I said earlier, every object in Python has distinct location in memory. But in some cases for <b>immutable</b> objects, we will see this statement is not ture."
   ]
  },
  {
   "cell_type": "code",
   "execution_count": 40,
   "metadata": {},
   "outputs": [
    {
     "data": {
      "text/plain": [
       "True"
      ]
     },
     "execution_count": 40,
     "metadata": {},
     "output_type": "execute_result"
    }
   ],
   "source": [
    "# defining two variables\n",
    "a = 5\n",
    "b = 5\n",
    "\n",
    "a is b "
   ]
  },
  {
   "cell_type": "markdown",
   "metadata": {},
   "source": [
    "Output <i>True</i> suggests that <i>a</i> and <i>b</i> have same memory address while both of them are seaparate varibales. This is because of <b>caching</b> in Python. Python caches objects with small values (-5 to 256) and variables with same values are assigned to that object. Like in our example, as <i>a</i> and <i>b</i> have same value, that is why both are referencing to same object. Now if we increase the values of both variables, greater than 256, result will change."
   ]
  },
  {
   "cell_type": "code",
   "execution_count": 33,
   "metadata": {},
   "outputs": [
    {
     "data": {
      "text/plain": [
       "False"
      ]
     },
     "execution_count": 33,
     "metadata": {},
     "output_type": "execute_result"
    }
   ],
   "source": [
    "# chaning values of a and b\n",
    "a = 257\n",
    "b = 257\n",
    "\n",
    "a is b "
   ]
  },
  {
   "cell_type": "markdown",
   "metadata": {},
   "source": [
    "Same is the case for string object. String variables with same value upto 20-25 characters are referenced to same address."
   ]
  },
  {
   "cell_type": "markdown",
   "metadata": {},
   "source": [
    "Remember that this <b>caching concept is for immutable objects.</b>"
   ]
  },
  {
   "cell_type": "markdown",
   "metadata": {},
   "source": [
    "This is all from this tutorial. Hope you enjoyed and understood the tutorial. Kindly let me know about your suggestions."
   ]
  }
 ],
 "metadata": {
  "kernelspec": {
   "display_name": "Python 3",
   "language": "python",
   "name": "python3"
  },
  "language_info": {
   "codemirror_mode": {
    "name": "ipython",
    "version": 3
   },
   "file_extension": ".py",
   "mimetype": "text/x-python",
   "name": "python",
   "nbconvert_exporter": "python",
   "pygments_lexer": "ipython3",
   "version": "3.6.5"
  }
 },
 "nbformat": 4,
 "nbformat_minor": 2
}
